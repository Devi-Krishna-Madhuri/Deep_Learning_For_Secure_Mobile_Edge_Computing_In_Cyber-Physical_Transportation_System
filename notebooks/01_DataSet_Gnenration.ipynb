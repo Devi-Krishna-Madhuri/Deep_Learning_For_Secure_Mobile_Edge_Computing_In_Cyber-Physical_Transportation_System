{
  "nbformat": 4,
  "nbformat_minor": 0,
  "metadata": {
    "colab": {
      "provenance": []
    },
    "kernelspec": {
      "name": "python3",
      "display_name": "Python 3"
    },
    "language_info": {
      "name": "python"
    }
  },
  "cells": [
    {
      "cell_type": "code",
      "execution_count": 1,
      "metadata": {
        "id": "Qp8S85STKM6K"
      },
      "outputs": [],
      "source": [
        "import pandas as pd\n",
        "import numpy as np\n",
        "import random"
      ]
    },
    {
      "cell_type": "code",
      "source": [
        "# Parameters\n",
        "n_samples_per_class = 1000\n",
        "attack_types = [\"DDoS\", \"Spoofing\", \"Phishing\", \"Normal\"]\n",
        "n_samples = n_samples_per_class * len(attack_types)"
      ],
      "metadata": {
        "id": "ySQWAAoaKUtr"
      },
      "execution_count": 2,
      "outputs": []
    },
    {
      "cell_type": "code",
      "source": [
        "# Define feature generation logic for each attack type\n",
        "def generate_data_for_attack(attack_type, n_samples):\n",
        "    data = {\n",
        "        \"Device_ID\": [f\"Device_{random.randint(1, 100)}\" for _ in range(n_samples)],  # More devices\n",
        "        \"Packet_Size (bytes)\": np.random.randint(64, 1518, n_samples),\n",
        "        \"Latency (ms)\": np.random.uniform(1, 500, n_samples).round(2),\n",
        "        \"Throughput (Mbps)\": np.random.uniform(0.1, 100, n_samples).round(2),\n",
        "        \"Protocol_Type\": np.random.choice([\"TCP\", \"UDP\", \"ICMP\"], n_samples),\n",
        "        \"Source_Port\": np.random.randint(1024, 65535, n_samples),\n",
        "        \"Destination_Port\": np.random.randint(1, 1024, n_samples),\n",
        "        \"IP_Flag\": np.random.choice([\"SYN\", \"ACK\", \"FIN\", \"RST\", \"None\"], n_samples),\n",
        "        \"Connection_Duration (ms)\": np.random.uniform(10, 10000, n_samples).round(2),\n",
        "        \"Packet_Count\": np.random.randint(1, 1000, n_samples),\n",
        "        \"Error_Rate\": np.random.uniform(0, 0.1, n_samples).round(4),\n",
        "        \"Fragmentation_Flag\": np.random.choice([0, 1], n_samples),\n",
        "        \"Payload_Size (bytes)\": np.random.randint(0, 1500, n_samples),\n",
        "        \"Session_Status\": np.random.choice([\"Established\", \"Failed\", \"Pending\"], n_samples),\n",
        "    }\n",
        "\n",
        "    # Apply specific rules for each attack type\n",
        "    if attack_type == \"DDoS\":\n",
        "        data[\"Packet_Count\"] = np.random.randint(500, 1000, n_samples)\n",
        "        data[\"Throughput (Mbps)\"] = np.random.uniform(50, 100, n_samples).round(2)\n",
        "        data[\"Error_Rate\"] = np.random.uniform(0.05, 0.1, n_samples).round(4)\n",
        "        data[\"Session_Status\"] = np.random.choice([\"Failed\", \"Pending\"], n_samples)\n",
        "\n",
        "    elif attack_type == \"Spoofing\":\n",
        "        data[\"Source_Port\"] = np.random.randint(1, 1024, n_samples)\n",
        "        data[\"IP_Flag\"] = np.random.choice([\"RST\", \"FIN\"], n_samples)\n",
        "        data[\"Error_Rate\"] = np.random.uniform(0.02, 0.08, n_samples).round(4)\n",
        "        data[\"Session_Status\"] = np.random.choice([\"Failed\", \"Pending\"], n_samples)\n",
        "\n",
        "    elif attack_type == \"Phishing\":\n",
        "        data[\"Packet_Size (bytes)\"] = np.random.randint(64, 256, n_samples)\n",
        "        data[\"Protocol_Type\"] = \"TCP\"\n",
        "        data[\"Error_Rate\"] = np.random.uniform(0.01, 0.05, n_samples).round(4)\n",
        "        data[\"Session_Status\"] = np.random.choice([\"Pending\", \"Failed\"], n_samples)\n",
        "\n",
        "    elif attack_type == \"Normal\":\n",
        "        data[\"Packet_Count\"] = np.random.randint(1, 500, n_samples)\n",
        "        data[\"Throughput (Mbps)\"] = np.random.uniform(0.1, 50, n_samples).round(2)\n",
        "        data[\"Error_Rate\"] = np.random.uniform(0, 0.02, n_samples).round(4)\n",
        "        data[\"Session_Status\"] = \"Established\"\n",
        "\n",
        "    data[\"Attack_Type\"] = [attack_type] * n_samples\n",
        "    return pd.DataFrame(data)\n"
      ],
      "metadata": {
        "id": "UPRyxK5yKZQg"
      },
      "execution_count": 3,
      "outputs": []
    },
    {
      "cell_type": "code",
      "source": [
        "# Combine data for all attack types\n",
        "df_list = [generate_data_for_attack(attack, n_samples_per_class) for attack in attack_types]\n",
        "df = pd.concat(df_list, ignore_index=True)"
      ],
      "metadata": {
        "id": "L_DxNZEhKgWP"
      },
      "execution_count": 4,
      "outputs": []
    },
    {
      "cell_type": "code",
      "source": [
        "df = df.sample(frac=1, random_state=42).reset_index(drop=True)"
      ],
      "metadata": {
        "id": "D9dBd_k2KmbF"
      },
      "execution_count": 6,
      "outputs": []
    },
    {
      "cell_type": "code",
      "source": [
        "df.to_csv(\"balanced_synthetic_network_data.csv\", index=False)"
      ],
      "metadata": {
        "id": "w9cl1bupKpJq"
      },
      "execution_count": 9,
      "outputs": []
    },
    {
      "cell_type": "code",
      "source": [
        "print(\"balanced synthetic dataset created successfully!\")"
      ],
      "metadata": {
        "colab": {
          "base_uri": "https://localhost:8080/"
        },
        "id": "Xh-JFpcFKu6a",
        "outputId": "b8897784-fc6f-4cec-d56a-26bdf8e7e002"
      },
      "execution_count": 10,
      "outputs": [
        {
          "output_type": "stream",
          "name": "stdout",
          "text": [
            "balanced synthetic dataset created successfully!\n"
          ]
        }
      ]
    },
    {
      "cell_type": "code",
      "source": [],
      "metadata": {
        "id": "AsbGzEiCKzxo"
      },
      "execution_count": null,
      "outputs": []
    }
  ]
}